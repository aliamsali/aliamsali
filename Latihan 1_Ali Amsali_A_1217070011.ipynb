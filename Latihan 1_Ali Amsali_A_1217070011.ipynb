
{
  "nbformat": 4,
  "nbformat_minor": 0,
  "metadata": {
    "colab": {
      "provenance": []
    },
    "kernelspec": {
      "name": "python3",
      "display_name": "Python 3"
    },
    "language_info": {
      "name": "python"
    }
  },
  "cells": [
    {
      "cell_type": "markdown",
      "source": [
        "Ali Amsali\n",
        "1217070011\n",
        "Latihan 1\n",
"Latihan 1 Machine Learning"
      ],
      "metadata": {
        "id": "_q8qAvqQVFRI"
      }
    },
    {
      "cell_type": "code",
      "execution_count": null,
      "metadata": {
        "colab": {
          "base_uri": "https://localhost:8080/"
        },
        "collapsed": true,
        "id": "eEgGThBCPvJ1",
        "outputId": "463f0cd6-a71e-4a1a-d587-fe7d4c7a9341"
      },
      "outputs": [
        {
          "output_type": "stream",
          "name": "stdout",
          "text": [
            "Requirement already satisfied: nltk in /usr/local/lib/python3.10/dist-packages (3.8.1)\n",
            "Requirement already satisfied: scikit-learn in /usr/local/lib/python3.10/dist-packages (1.5.2)\n",
            "Requirement already satisfied: matplotlib in /usr/local/lib/python3.10/dist-packages (3.7.1)\n",
            "Requirement already satisfied: click in /usr/local/lib/python3.10/dist-packages (from nltk) (8.1.7)\n",
            "Requirement already satisfied: joblib in /usr/local/lib/python3.10/dist-packages (from nltk) (1.4.2)\n",
            "Requirement already satisfied: regex>=2021.8.3 in /usr/local/lib/python3.10/dist-packages (from nltk) (2024.9.11)\n",
            "Requirement already satisfied: tqdm in /usr/local/lib/python3.10/dist-packages (from nltk) (4.66.5)\n",
            "Requirement already satisfied: numpy>=1.19.5 in /usr/local/lib/python3.10/dist-packages (from scikit-learn) (1.26.4)\n",
            "Requirement already satisfied: scipy>=1.6.0 in /usr/local/lib/python3.10/dist-packages (from scikit-learn) (1.13.1)\n",
            "Requirement already satisfied: threadpoolctl>=3.1.0 in /usr/local/lib/python3.10/dist-packages (from scikit-learn) (3.5.0)\n",
            "Requirement already satisfied: contourpy>=1.0.1 in /usr/local/lib/python3.10/dist-packages (from matplotlib) (1.3.0)\n",
            "Requirement already satisfied: cycler>=0.10 in /usr/local/lib/python3.10/dist-packages (from matplotlib) (0.12.1)\n",
            "Requirement already satisfied: fonttools>=4.22.0 in /usr/local/lib/python3.10/dist-packages (from matplotlib) (4.54.1)\n",
            "Requirement already satisfied: kiwisolver>=1.0.1 in /usr/local/lib/python3.10/dist-packages (from matplotlib) (1.4.7)\n",
            "Requirement already satisfied: packaging>=20.0 in /usr/local/lib/python3.10/dist-packages (from matplotlib) (24.1)\n",
            "Requirement already satisfied: pillow>=6.2.0 in /usr/local/lib/python3.10/dist-packages (from matplotlib) (10.4.0)\n",
            "Requirement already satisfied: pyparsing>=2.3.1 in /usr/local/lib/python3.10/dist-packages (from matplotlib) (3.2.0)\n",
            "Requirement already satisfied: python-dateutil>=2.7 in /usr/local/lib/python3.10/dist-packages (from matplotlib) (2.8.2)\n",
            "Requirement already satisfied: six>=1.5 in /usr/local/lib/python3.10/dist-packages (from python-dateutil>=2.7->matplotlib) (1.16.0)\n"
          ]
        }
      ],
      "source": [
        "!pip install nltk scikit-learn matplotlib"
      ]
    },
    {
      "cell_type": "code",
      "source": [
        "from google.colab import drive\n",
        "drive.mount('/content/drive')"
      ],
      "metadata": {
        "colab": {
          "base_uri": "https://localhost:8080/"
        },
        "id": "2PjC-0I3QcVj",
        "outputId": "009055c0-6a3d-4092-b1dd-1d45059cd854"
      },
      "execution_count": null,
      "outputs": [
        {
          "output_type": "stream",
          "name": "stdout",
          "text": [
            "Mounted at /content/drive\n"
          ]
        }
      ]
    },
    {
      "cell_type": "code",
      "source": [
        "import pandas as pd\n",
        "\n",
        "data_path = '/content/drive/MyDrive/ISEAR.csv'\n",
        "df = pd.read_csv(data_path, header=None)\n",
        "\n",
        "print(df.head())"
      ],
      "metadata": {
        "colab": {
          "base_uri": "https://localhost:8080/"
        },
        "id": "vdUDTZ3jQc7A",
        "outputId": "403b0459-01b8-40f4-d198-01c6bd3886e7"
      },
      "execution_count": null,
      "outputs": [
        {
          "output_type": "stream",
          "name": "stdout",
          "text": [
            "         0                                                  1    2\n",
            "0      joy  On days when I feel close to my partner and ot...  NaN\n",
            "1     fear  Every time I imagine that someone I love or I ...  NaN\n",
            "2    anger  When I had been obviously unjustly treated and...  NaN\n",
            "3  sadness  When I think about the short time that we live...  NaN\n",
            "4  disgust  At a gathering I found myself involuntarily si...  NaN\n"
          ]
        }
      ]
    },
    {
      "cell_type": "code",
      "source": [
        "import nltk\n",
        "from nltk.corpus import stopwords\n",
        "from nltk.tokenize import word_tokenize\n",
        "from nltk.stem import SnowballStemmer\n",
        "import re\n",
        "from sklearn.model_selection import train_test_split\n",
        "from sklearn.feature_extraction.text import TfidfVectorizer\n",
        "from sklearn.naive_bayes import MultinomialNB\n",
        "from sklearn import svm\n",
        "from sklearn.metrics import classification_report\n",
        "\n",
        "nltk.download('stopwords')\n",
        "nltk.download('punkt')\n",
        "\n",
        "def preprocess_text(text):\n",
        "    text = text.lower()\n",
        "    text = re.sub(r'[^\\w\\s]', '', text)\n",
        "    tokens = word_tokenize(text)\n",
        "    stop_words = set(stopwords.words('english'))\n",
        "    tokens = [word for word in tokens if word not in stop_words]\n",
        "    stemmer = SnowballStemmer('english')\n",
        "    tokens = [stemmer.stem(word) for word in tokens]\n",
        "    return tokens\n",
        "\n",
        "df['processed'] = df[1].apply(preprocess_text)\n",
        "print(df['processed'].head())\n",
        "\n",
        "X_train, X_test, y_train, y_test = train_test_split(df['processed'], df[0], test_size=0.3, random_state=42)\n",
        "\n",
        "vectorizer = TfidfVectorizer(tokenizer=lambda i: i, lowercase=False)\n",
        "X_train_vect = vectorizer.fit_transform(X_train)\n",
        "X_test_vect = vectorizer.transform(X_test)\n",
        "\n",
        "nb = MultinomialNB()\n",
        "nb.fit(X_train_vect, y_train)\n",
        "y_pred_nb = nb.predict(X_test_vect)\n",
        "print(\"Naive Bayes Classification Report:\\n\", classification_report(y_test, y_pred_nb))\n",
        "\n",
        "clf = svm.SVC()\n",
        "clf.fit(X_train_vect, y_train)\n",
        "y_pred_svm = clf.predict(X_test_vect)\n",
        "print(\"SVM Classification Report:\\n\", classification_report(y_test, y_pred_svm))\n"
      ],
      "metadata": {
        "colab": {
          "base_uri": "https://localhost:8080/"
        },
        "id": "LTGFAcD_TBVI",
        "outputId": "50653805-cb9b-4465-85f3-5b99165ac28e"
      },
      "execution_count": null,
      "outputs": [
        {
          "output_type": "stream",
          "name": "stderr",
          "text": [
            "[nltk_data] Downloading package stopwords to /root/nltk_data...\n",
            "[nltk_data]   Package stopwords is already up-to-date!\n",
            "[nltk_data] Downloading package punkt to /root/nltk_data...\n",
            "[nltk_data]   Package punkt is already up-to-date!\n"
          ]
        },
        {
          "output_type": "stream",
          "name": "stdout",
          "text": [
            "0    [day, feel, close, partner, friend, feel, peac...\n",
            "1    [everi, time, imagin, someon, love, could, con...\n",
            "2            [obvious, unjust, treat, possibl, elucid]\n",
            "3    [think, short, time, live, relat, period, life...\n",
            "4    [gather, found, involuntarili, sit, next, two,...\n",
            "Name: processed, dtype: object\n"
          ]
        },
        {
          "output_type": "stream",
          "name": "stderr",
          "text": [
            "/usr/local/lib/python3.10/dist-packages/sklearn/feature_extraction/text.py:521: UserWarning: The parameter 'token_pattern' will not be used since 'tokenizer' is not None'\n",
            "  warnings.warn(\n"
          ]
        },
        {
          "output_type": "stream",
          "name": "stdout",
          "text": [
            "Naive Bayes Classification Report:\n",
            "               precision    recall  f1-score   support\n",
            "\n",
            "       anger       0.49      0.37      0.42       348\n",
            "     disgust       0.61      0.52      0.56       301\n",
            "        fear       0.56      0.64      0.60       307\n",
            "       guilt       0.42      0.45      0.44       313\n",
            "         joy       0.58      0.70      0.64       323\n",
            "     sadness       0.59      0.59      0.59       340\n",
            "       shame       0.45      0.43      0.44       323\n",
            "\n",
            "    accuracy                           0.53      2255\n",
            "   macro avg       0.53      0.53      0.53      2255\n",
            "weighted avg       0.53      0.53      0.53      2255\n",
            "\n",
            "SVM Classification Report:\n",
            "               precision    recall  f1-score   support\n",
            "\n",
            "       anger       0.46      0.53      0.49       348\n",
            "     disgust       0.56      0.58      0.57       301\n",
            "        fear       0.65      0.67      0.66       307\n",
            "       guilt       0.49      0.45      0.47       313\n",
            "         joy       0.66      0.73      0.70       323\n",
            "     sadness       0.71      0.56      0.62       340\n",
            "       shame       0.50      0.47      0.48       323\n",
            "\n",
            "    accuracy                           0.57      2255\n",
            "   macro avg       0.58      0.57      0.57      2255\n",
            "weighted avg       0.58      0.57      0.57      2255\n",
            "\n"
          ]
        }
      ]
    },
    {
      "cell_type": "code",
      "source": [
        "import matplotlib.pyplot as plt\n",
        "\n",
        "df[0].value_counts().plot(kind='bar')\n",
        "plt.title('Dataset ISEAR Emosi')\n",
        "plt.xlabel('Emosi')\n",
        "plt.ylabel('Jumlah')\n",
        "plt.show()\n"
      ],
      "metadata": {
        "colab": {
          "base_uri": "https://localhost:8080/",
          "height": 514
        },
        "id": "75EqT3LOTNdA",
        "outputId": "a62b6841-2f59-4caa-a452-28bc257f1abb"
      },
      "execution_count": null,
      "outputs": [
        {
          "output_type": "display_data",
          "data": {
            "text/plain": [
              "<Figure size 640x480 with 1 Axes>"
            ],
            "image/png": "[encoded data removed]"
          },
          "metadata": {}
        }
      ]
    },
    {
      "cell_type": "code",
      "source": [
        "import nltk\n",
        "from nltk.corpus import stopwords\n",
        "from nltk.tokenize import word_tokenize\n",
        "from nltk.stem import PorterStemmer\n",
        "import string\n",
        "from sklearn.model_selection import train_test_split\n",
        "from sklearn.feature_extraction.text import TfidfVectorizer\n",
        "\n",
        "nltk.download('stopwords')\n",
        "nltk.download('punkt')\n",
        "\n",
        "def preprocess_text(text):\n",
        "    text = text.lower()\n",
        "    text = text.translate(str.maketrans('', '', string.punctuation))\n",
        "    tokens = word_tokenize(text)\n",
        "    tokens = [word for word in tokens if word not in stopwords.words('english')]\n",
        "    stemmer = PorterStemmer()\n",
        "    tokens = [stemmer.stem(word) for word in tokens]\n",
        "    return ' '.join(tokens)\n",
        "\n",
        "df['processed_text'] = df[1].apply(preprocess_text)\n",
        "print(df['processed_text'].head())\n",
        "\n",
        "X = df['processed_text']\n",
        "y = df[0]\n",
        "X_train, X_test, y_train, y_test = train_test_split(X, y, test_size=0.3, random_state=42)\n",
        "\n",
        "vectorizer = TfidfVectorizer(ngram_range=(1, 3))\n",
        "X_train_vect = vectorizer.fit_transform(X_train)\n",
        "X_test_vect = vectorizer.transform(X_test)\n"
      ],
      "metadata": {
        "colab": {
          "base_uri": "https://localhost:8080/"
        },
        "id": "1JcpOQ4eTv0s",
        "outputId": "8bfe891f-8c2f-4ea8-8746-e9798d5a455c"
      },
      "execution_count": null,
      "outputs": [
        {
          "output_type": "stream",
          "name": "stderr",
          "text": [
            "[nltk_data] Downloading package stopwords to /root/nltk_data...\n",
            "[nltk_data]   Package stopwords is already up-to-date!\n",
            "[nltk_data] Downloading package punkt to /root/nltk_data...\n",
            "[nltk_data]   Package punkt is already up-to-date!\n"
          ]
        },
        {
          "output_type": "stream",
          "name": "stdout",
          "text": [
            "0    day feel close partner friend feel peac also e...\n",
            "1    everi time imagin someon love could contact se...\n",
            "2                obvious unjustli treat possibl elucid\n",
            "3    think short time live relat period life think ...\n",
            "4    gather found involuntarili sit next two peopl ...\n",
            "Name: processed_text, dtype: object\n"
          ]
        }
      ]
    },
    {
      "cell_type": "code",
      "source": [
        "from sklearn.naive_bayes import MultinomialNB\n",
        "from sklearn.metrics import classification_report, confusion_matrix\n",
        "from sklearn import svm\n",
        "\n",
        "nb_model = MultinomialNB()\n",
        "nb_model.fit(X_train_vect, y_train)\n",
        "\n",
        "y_pred_nb = nb_model.predict(X_test_vect)\n",
        "\n",
        "print(\"Classification Report Naive Bayes:\")\n",
        "print(classification_report(y_test, y_pred_nb))\n",
        "print(\"Confusion Matrix Naive Bayes:\")\n",
        "print(confusion_matrix(y_test, y_pred_nb))\n",
        "\n",
        "svm_model = svm.SVC()\n",
        "svm_model.fit(X_train_vect, y_train)\n",
        "\n",
        "y_pred_svm = svm_model.predict(X_test_vect)\n",
        "\n",
        "print(\"Classification Report SVM:\")\n",
        "print(classification_report(y_test, y_pred_svm))\n",
        "print(\"Confusion Matrix SVM:\")\n",
        "print(confusion_matrix(y_test, y_pred_svm))\n"
      ],
      "metadata": {
        "colab": {
          "base_uri": "https://localhost:8080/"
        },
        "id": "bgEJ640MUAUs",
        "outputId": "3883a8ee-2a49-41b2-bcf2-4094cc08284e"
      },
      "execution_count": null,
      "outputs": [
        {
          "output_type": "stream",
          "name": "stdout",
          "text": [
            "Classification Report Naive Bayes:\n",
            "              precision    recall  f1-score   support\n",
            "\n",
            "       anger       0.53      0.39      0.45       348\n",
            "     disgust       0.61      0.55      0.58       301\n",
            "        fear       0.55      0.68      0.61       307\n",
            "       guilt       0.47      0.47      0.47       313\n",
            "         joy       0.59      0.72      0.65       323\n",
            "     sadness       0.62      0.60      0.61       340\n",
            "       shame       0.46      0.44      0.45       323\n",
            "\n",
            "    accuracy                           0.55      2255\n",
            "   macro avg       0.55      0.55      0.55      2255\n",
            "weighted avg       0.55      0.55      0.55      2255\n",
            "\n",
            "Confusion Matrix Naive Bayes:\n",
            "[[137  37  37  49  24  28  36]\n",
            " [ 28 166  21  19  18  16  33]\n",
            " [ 14   6 209  13  25  25  15]\n",
            " [ 35  13  28 148  20  25  44]\n",
            " [  7   8  22  15 233  22  16]\n",
            " [ 14  14  29  19  39 204  21]\n",
            " [ 22  30  34  49  34  11 143]]\n",
            "Classification Report SVM:\n",
            "              precision    recall  f1-score   support\n",
            "\n",
            "       anger       0.47      0.51      0.49       348\n",
            "     disgust       0.58      0.57      0.57       301\n",
            "        fear       0.61      0.68      0.64       307\n",
            "       guilt       0.48      0.44      0.46       313\n",
            "         joy       0.63      0.73      0.68       323\n",
            "     sadness       0.68      0.57      0.62       340\n",
            "       shame       0.51      0.47      0.49       323\n",
            "\n",
            "    accuracy                           0.57      2255\n",
            "   macro avg       0.57      0.57      0.56      2255\n",
            "weighted avg       0.57      0.57      0.56      2255\n",
            "\n",
            "Confusion Matrix SVM:\n",
            "[[176  43  25  32  17  22  33]\n",
            " [ 40 171  12  25  17   9  27]\n",
            " [ 20  11 209  13  26  20   8]\n",
            " [ 56  16  23 138  18  21  41]\n",
            " [ 12   6  20  16 237  12  20]\n",
            " [ 29  13  29  25  33 193  18]\n",
            " [ 38  36  25  38  28   7 151]]\n"
          ]
        }
      ]
    },
    {
      "cell_type": "code",
      "source": [
        "import seaborn as sns\n",
        "import matplotlib.pyplot as plt\n",
        "from sklearn.metrics import confusion_matrix\n",
        "\n",
        "# Confusion Matrix Naive Bayes\n",
        "cm_nb = confusion_matrix(y_test, y_pred_nb)\n",
        "plt.figure(figsize=(8, 6))\n",
        "sns.heatmap(cm_nb, annot=True, fmt='d', cmap='Blues')\n",
        "plt.title('Confusion Matrix - Naive Bayes')\n",
        "plt.xlabel('Predicted')\n",
        "plt.ylabel('Actual')\n",
        "plt.show()"
      ],
      "metadata": {
        "colab": {
          "base_uri": "https://localhost:8080/",
          "height": 564
        },
        "id": "Ht2UbE5zUUzr",
        "outputId": "cb08a439-89c9-4682-cd6d-4ad7f45ff1b9"
      },
      "execution_count": null,
      "outputs": [
        {
          "output_type": "display_data",
          "data": {
            "text/plain": [
              "<Figure size 800x600 with 2 Axes>"
            ],
            "image/png": "[encoded data removed]"
          },
          "metadata": {}
        }
      ]
    }
  ]
}
